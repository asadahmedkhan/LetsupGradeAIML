{
 "cells": [
  {
   "cell_type": "code",
   "execution_count": 1,
   "metadata": {},
   "outputs": [
    {
     "name": "stdout",
     "output_type": "stream",
     "text": [
      "Greater : \n",
      " [[False False False]\n",
      " [ True False  True]]\n",
      "Greater-Equal: \n",
      " [[False  True False]\n",
      " [ True  True  True]]\n",
      "Less : \n",
      " [[ True False  True]\n",
      " [False False False]]\n",
      "Less-Equal : \n",
      " [[ True  True  True]\n",
      " [False  True False]]\n"
     ]
    }
   ],
   "source": [
    "import numpy as np\n",
    "arr_first=np.array([[1,2,3],[7,6,5]])\n",
    "arr_second=np.array([[7,2,5],[1,6,3]])\n",
    "print(\"Greater : \\n\",np.greater(arr_first,arr_second))\n",
    "print(\"Greater-Equal: \\n\",np.greater_equal(arr_first,arr_second))\n",
    "print(\"Less : \\n\",np.less(arr_first,arr_second))\n",
    "print(\"Less-Equal : \\n\",np.less_equal(arr_first,arr_second))"
   ]
  },
  {
   "cell_type": "code",
   "execution_count": 2,
   "metadata": {},
   "outputs": [
    {
     "name": "stdout",
     "output_type": "stream",
     "text": [
      "Array of 10 zeros :  [0. 0. 0. 0. 0. 0. 0. 0. 0. 0.]\n",
      "Array of 10 ones :  [1. 1. 1. 1. 1. 1. 1. 1. 1. 1.]\n",
      "Array of 10 fives :  [5. 5. 5. 5. 5. 5. 5. 5. 5. 5.]\n"
     ]
    }
   ],
   "source": [
    "arr1_zeros=np.zeros((10))\n",
    "print(\"Array of 10 zeros : \",arr1_zeros)\n",
    "arr1_ones=np.ones((10))\n",
    "print(\"Array of 10 ones : \",arr1_ones)\n",
    "arr1_fives=np.ones((10))*5\n",
    "print(\"Array of 10 fives : \",arr1_fives)"
   ]
  },
  {
   "cell_type": "code",
   "execution_count": 3,
   "metadata": {},
   "outputs": [
    {
     "name": "stdout",
     "output_type": "stream",
     "text": [
      "Sum of array :  10\n",
      "Sum along row :  [3 7]\n",
      "Sum along column :  [4 6]\n"
     ]
    }
   ],
   "source": [
    "arr3=np.array([[1,2],[3,4]])\n",
    "print(\"Sum of array : \",np.sum(arr3))\n",
    "print(\"Sum along row : \",np.sum(arr3,axis=1))\n",
    "print(\"Sum along column : \",np.sum(arr3,axis=0))"
   ]
  },
  {
   "cell_type": "code",
   "execution_count": 4,
   "metadata": {},
   "outputs": [
    {
     "name": "stdout",
     "output_type": "stream",
     "text": [
      "Addition :  15\n",
      "Subtraction :  -5\n",
      "Multiplication :  50\n",
      "Division :  0.5\n"
     ]
    }
   ],
   "source": [
    "print(\"Addition : \",np.add(5,10))\n",
    "print(\"Subtraction : \",np.subtract(5,10))\n",
    "print(\"Multiplication : \",np.multiply(5,10))\n",
    "print(\"Division : \",np.divide(5,10))"
   ]
  },
  {
   "cell_type": "code",
   "execution_count": 5,
   "metadata": {},
   "outputs": [
    {
     "name": "stdout",
     "output_type": "stream",
     "text": [
      "Sin : \n",
      " [0.   0.5  0.71 0.87 1.  ]\n",
      "Cosine : \n",
      " [1.   0.87 0.71 0.5  0.  ]\n",
      "Tangent : \n",
      " [0.00000000e+00 5.80000000e-01 1.00000000e+00 1.73000000e+00\n",
      " 1.63312394e+16]\n"
     ]
    }
   ],
   "source": [
    "angles=np.array([0,30,45,60,90]) #Given angles in degress\n",
    "# Input of trignometric function is of radian type, so degree must be converted to radian\n",
    "print(\"Sin : \\n\",np.round(np.sin(angles*np.pi/180),2)) \n",
    "print(\"Cosine : \\n\",np.round(np.cos(angles*np.pi/180),2))\n",
    "print(\"Tangent : \\n\",np.round(np.tan(angles*np.pi/180),2))"
   ]
  },
  {
   "cell_type": "code",
   "execution_count": null,
   "metadata": {},
   "outputs": [],
   "source": []
  }
 ],
 "metadata": {
  "kernelspec": {
   "display_name": "Python 3",
   "language": "python",
   "name": "python3"
  },
  "language_info": {
   "codemirror_mode": {
    "name": "ipython",
    "version": 3
   },
   "file_extension": ".py",
   "mimetype": "text/x-python",
   "name": "python",
   "nbconvert_exporter": "python",
   "pygments_lexer": "ipython3",
   "version": "3.7.6"
  }
 },
 "nbformat": 4,
 "nbformat_minor": 4
}
