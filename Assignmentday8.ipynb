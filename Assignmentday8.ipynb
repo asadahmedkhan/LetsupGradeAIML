{
 "cells": [
  {
   "cell_type": "markdown",
   "metadata": {},
   "source": [
    "# Ques 1\n",
    "\n",
    "map"
   ]
  },
  {
   "cell_type": "code",
   "execution_count": 1,
   "metadata": {},
   "outputs": [
    {
     "name": "stdout",
     "output_type": "stream",
     "text": [
      "[1, 4, 9, 16, 25]\n"
     ]
    }
   ],
   "source": [
    "def sqr(a):\n",
    "  return a*a\n",
    "x=map(sqr,[1,2,3,4,5])\n",
    "print(list(x))"
   ]
  },
  {
   "cell_type": "code",
   "execution_count": 2,
   "metadata": {},
   "outputs": [
    {
     "name": "stdout",
     "output_type": "stream",
     "text": [
      "[1, 4, 9, 16, 25]\n"
     ]
    }
   ],
   "source": [
    "print(list(map(sqr,[1,2,3,4,5])))"
   ]
  },
  {
   "cell_type": "code",
   "execution_count": 3,
   "metadata": {},
   "outputs": [
    {
     "name": "stdout",
     "output_type": "stream",
     "text": [
      "[6, 7, 8, 9, 10]\n"
     ]
    }
   ],
   "source": [
    "print(list(map(lambda x: x+5,[1,2,3,4,5])))\n"
   ]
  },
  {
   "cell_type": "markdown",
   "metadata": {},
   "source": [
    "# filter"
   ]
  },
  {
   "cell_type": "code",
   "execution_count": 4,
   "metadata": {},
   "outputs": [
    {
     "name": "stdout",
     "output_type": "stream",
     "text": [
      "[3, 4, 5]\n"
     ]
    }
   ],
   "source": [
    "def fil(a):\n",
    "  return a>=3\n",
    "x=filter(fil,[1,2,3,4,5])\n",
    "print(list(x))"
   ]
  },
  {
   "cell_type": "code",
   "execution_count": 5,
   "metadata": {},
   "outputs": [
    {
     "name": "stdout",
     "output_type": "stream",
     "text": [
      "[3, 4, 5]\n"
     ]
    }
   ],
   "source": [
    "print(list(filter(fil,[1,2,3,4,5])))"
   ]
  },
  {
   "cell_type": "code",
   "execution_count": 6,
   "metadata": {},
   "outputs": [
    {
     "name": "stdout",
     "output_type": "stream",
     "text": [
      "[3, 4, 5]\n"
     ]
    }
   ],
   "source": [
    "print(list(filter(lambda x: x>=3, [1,2,3,4,5])))"
   ]
  },
  {
   "cell_type": "markdown",
   "metadata": {},
   "source": [
    "# reduce"
   ]
  },
  {
   "cell_type": "code",
   "execution_count": 7,
   "metadata": {},
   "outputs": [
    {
     "name": "stdout",
     "output_type": "stream",
     "text": [
      "15\n"
     ]
    }
   ],
   "source": [
    "from functools import reduce\n",
    "\n",
    "def sqr(a,b):\n",
    "  return a+b\n",
    "x=reduce(sqr,[1,2,3,4,5])\n",
    "print(x)"
   ]
  },
  {
   "cell_type": "code",
   "execution_count": 8,
   "metadata": {},
   "outputs": [
    {
     "name": "stdout",
     "output_type": "stream",
     "text": [
      "15\n",
      "15\n"
     ]
    }
   ],
   "source": [
    "print(reduce(sqr,[1,2,3,4,5]))\n",
    "\n",
    "print(reduce(lambda x,y : x+y,[1,2,3,4,5]))\n"
   ]
  },
  {
   "cell_type": "code",
   "execution_count": 9,
   "metadata": {},
   "outputs": [
    {
     "name": "stdout",
     "output_type": "stream",
     "text": [
      "[6, 7, 8]\n",
      "[3, 4]\n",
      "336\n"
     ]
    }
   ],
   "source": [
    "x=map(lambda x: x+3,filter(lambda x:x>=3,[1,2,3,4,5]))\n",
    "print(list(x))\n",
    "\n",
    "x=filter(lambda x: x<5,map(lambda x: x+2,[1,2,3,4,5]))\n",
    "print(list(x))\n",
    "\n",
    "x= reduce(lambda x,y:x*y,map(lambda x: x+3,filter(lambda x:x>=3,[1,2,3,4,5])))\n",
    "print(x)"
   ]
  },
  {
   "cell_type": "markdown",
   "metadata": {},
   "source": [
    "# Ques 2\n",
    "\n",
    "class and objects"
   ]
  },
  {
   "cell_type": "code",
   "execution_count": 10,
   "metadata": {},
   "outputs": [],
   "source": [
    "class Employee:\n",
    "  'Blueprint for all students' # Optional class documentation string\n",
    "  emp_count=0 #Known as class variable\n",
    "  def __init__(self,name,age) :\n",
    "    self.name=name\n",
    "    self.age=age\n",
    "    Employee.emp_count=Employee.emp_count+1 #Accessing class variable using class name  \n",
    "  def displayemployee(self):\n",
    "    print(\"Name :\",self.name,\"\\nAge :\",self.age)# Variables decared inside method with self are properties of an individual object and can be accessed by combination of objectname and '.' operator\n",
    "  def displayCount(self):\n",
    "    print(\"Student.emp_count\")\n",
    "  def displayclass(self):\n",
    "    print(self.__class__)\n",
    "  def __del__(self): #Known as destructor. Invoked when the object of class has no refrence to access that object\n",
    "    classname=self.__class__.__name__\n",
    "    print(classname,\"destroyed\")"
   ]
  },
  {
   "cell_type": "code",
   "execution_count": 11,
   "metadata": {},
   "outputs": [],
   "source": [
    "#builtin attributes"
   ]
  },
  {
   "cell_type": "code",
   "execution_count": 12,
   "metadata": {},
   "outputs": [
    {
     "name": "stdout",
     "output_type": "stream",
     "text": [
      "Blueprint for all students\n",
      "{'__module__': '__main__', '__doc__': 'Blueprint for all students', 'emp_count': 0, '__init__': <function Employee.__init__ at 0x0000020E0F9B3B88>, 'displayemployee': <function Employee.displayemployee at 0x0000020E0F9B39D8>, 'displayCount': <function Employee.displayCount at 0x0000020E0F9B31F8>, 'displayclass': <function Employee.displayclass at 0x0000020E0F9B35E8>, '__del__': <function Employee.__del__ at 0x0000020E0F9B3948>, '__dict__': <attribute '__dict__' of 'Employee' objects>, '__weakref__': <attribute '__weakref__' of 'Employee' objects>}\n",
      "Employee\n",
      "__main__\n",
      "(<class 'object'>,)\n"
     ]
    }
   ],
   "source": [
    "print(Employee.__doc__) # Accessing documentation string\n",
    "print(Employee.__dict__) #Used to print namespace of a Class\n",
    "print(Employee.__name__) #Return name of class\n",
    "print(Employee.__module__) # Used to print module in which class is present, default is __main__\n",
    "print(Employee.__bases__)"
   ]
  },
  {
   "cell_type": "markdown",
   "metadata": {},
   "source": [
    "# creating objects"
   ]
  },
  {
   "cell_type": "code",
   "execution_count": 13,
   "metadata": {},
   "outputs": [],
   "source": [
    "s1=Employee(\"Asad\",21)\n",
    "s2=Employee(\"Hello\",19)"
   ]
  },
  {
   "cell_type": "code",
   "execution_count": 14,
   "metadata": {},
   "outputs": [
    {
     "name": "stdout",
     "output_type": "stream",
     "text": [
      "Name : Asad \n",
      "Age : 21\n",
      "2\n"
     ]
    }
   ],
   "source": [
    "s1.displayemployee() \n",
    "print(Employee.emp_count)"
   ]
  },
  {
   "cell_type": "markdown",
   "metadata": {},
   "source": [
    "# Understanding concept of destructor\n",
    "All refrence to object named \"Hello\" are deleted and thus the object becomes anonymous and can't be accessed later on and thus garbage collector comes into picture and deletes the object.\n",
    "\n",
    "When an object gets deleted, its destructor is called automatically like the constructor gets activated on time of object creation."
   ]
  },
  {
   "cell_type": "code",
   "execution_count": 15,
   "metadata": {},
   "outputs": [
    {
     "name": "stdout",
     "output_type": "stream",
     "text": [
      "Employee destroyed\n"
     ]
    }
   ],
   "source": [
    "dummyrefrence=s2\n",
    "del s2\n",
    "del dummyrefrence\n"
   ]
  },
  {
   "cell_type": "code",
   "execution_count": 16,
   "metadata": {},
   "outputs": [
    {
     "name": "stdout",
     "output_type": "stream",
     "text": [
      "Inside Child's constructor\n",
      "200\n",
      "Method overridden\n",
      "100\n"
     ]
    }
   ],
   "source": [
    "#Inheritance\n",
    "\n",
    "class Parent:\n",
    "  parent_attribute=200\n",
    "  def __init__(self):\n",
    "    print(\"Inside parent's constructor\")\n",
    "  def set_attribute(self,atr):\n",
    "    Parent.parent_attribute=atr\n",
    "  def get_attribute(self):\n",
    "    print(Parent.parent_attribute)\n",
    "\n",
    "class Child(Parent):\n",
    "  def __init__(self):\n",
    "    print(\"Inside Child's constructor\")\n",
    "  def get_attribute(self): # Overriding method to change parents functionality or adding new functionality into parent one.\n",
    "    print(\"Method overridden\")\n",
    "    print(Parent.parent_attribute)\n",
    "\n",
    "c=Child() #Parent class is accessible through child class\n",
    "print(c.parent_attribute)\n",
    "c.set_attribute(100)\n",
    "c.get_attribute()"
   ]
  },
  {
   "cell_type": "markdown",
   "metadata": {},
   "source": [
    "# Operator Overloading\n",
    "Certain operators can't function on classes and must be overloaded."
   ]
  },
  {
   "cell_type": "code",
   "execution_count": 17,
   "metadata": {},
   "outputs": [
    {
     "name": "stdout",
     "output_type": "stream",
     "text": [
      "3   5\n"
     ]
    }
   ],
   "source": [
    "class Complex:\n",
    "  __privatestring=\"Helps in data hidding\" #Private variables can't be accessed outside class. Can be used using getter and setter method. \n",
    "  def __init__(self,real,imaginary):\n",
    "    self.real=real\n",
    "    self.imaginary=imaginary\n",
    "  def __add__(self,other):\n",
    "    print(self.real+other.real,\" \",self.imaginary+other.imaginary)\n",
    "  def printprivatestring(self):\n",
    "    print(Complex.__privatestring)\n",
    "\n",
    "c1=Complex(1,2)\n",
    "c2=Complex(2,3)\n",
    "\n",
    "c1+c2 "
   ]
  },
  {
   "cell_type": "code",
   "execution_count": 18,
   "metadata": {},
   "outputs": [
    {
     "name": "stdout",
     "output_type": "stream",
     "text": [
      "Helps in data hidding\n"
     ]
    }
   ],
   "source": [
    "c1.printprivatestring()"
   ]
  },
  {
   "cell_type": "code",
   "execution_count": null,
   "metadata": {},
   "outputs": [],
   "source": []
  }
 ],
 "metadata": {
  "kernelspec": {
   "display_name": "Python 3",
   "language": "python",
   "name": "python3"
  },
  "language_info": {
   "codemirror_mode": {
    "name": "ipython",
    "version": 3
   },
   "file_extension": ".py",
   "mimetype": "text/x-python",
   "name": "python",
   "nbconvert_exporter": "python",
   "pygments_lexer": "ipython3",
   "version": "3.7.6"
  }
 },
 "nbformat": 4,
 "nbformat_minor": 4
}
