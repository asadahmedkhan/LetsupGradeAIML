{
 "cells": [
  {
   "cell_type": "markdown",
   "metadata": {},
   "source": [
    "# ques1 \n"
   ]
  },
  {
   "cell_type": "code",
   "execution_count": 1,
   "metadata": {},
   "outputs": [
    {
     "name": "stdout",
     "output_type": "stream",
     "text": [
      "Enter your mail id\n",
      "abc@google.com\n",
      "\n",
      "Company name : google\n"
     ]
    }
   ],
   "source": [
    "m=input(\"Enter your mail id\\n\")\n",
    "a=m.split(\"@\")\n",
    "a=a[1].split(\".\")\n",
    "print(\"\\nCompany name :\",a[0])"
   ]
  },
  {
   "cell_type": "markdown",
   "metadata": {},
   "source": [
    "# ques 2"
   ]
  },
  {
   "cell_type": "code",
   "execution_count": null,
   "metadata": {},
   "outputs": [],
   "source": [
    "str=input(\"Enter words separated by commas.\\n\")\n",
    "str=str.split(\",\")\n",
    "str.sort()\n",
    "print(\"\\nSorted list :\")\n",
    "for i in range(len(str)):\n",
    "  if i<len(str)-1 :\n",
    "    print(str[i],end=\",\")\n",
    "  else:\n",
    "    print(str[i])"
   ]
  },
  {
   "cell_type": "code",
   "execution_count": null,
   "metadata": {},
   "outputs": [],
   "source": [
    "#ques 3"
   ]
  },
  {
   "cell_type": "code",
   "execution_count": null,
   "metadata": {},
   "outputs": [],
   "source": [
    "st={\"Hello\",\"Lets\",\"Upgrade\"}\n",
    "print(st)\n",
    "\n",
    "#Accessing items of list\n",
    "for i in st:\n",
    "  print(i,end=\" \")\n",
    "\n",
    "#Item present or not\n",
    "print(\"\\n\",\"Lets\" in st)\n",
    "\n",
    "#Adding item\n",
    "st.add(\"Lets start\")\n",
    "print(st)\n",
    "\n",
    "#Adding multiple items\n",
    "st.update([\"Now\",\"You\",\"are\",\"ready\",\"to go\"])\n",
    "print(st)\n",
    "\n",
    "#Getting length\n",
    "print(len(st))\n",
    "\n",
    "#Remove element and generates an error if not present\n",
    "st.remove(\"Lets start\")\n",
    "print(st)\n",
    "\n",
    "#use set.discard(\"item\") method\n",
    "st.discard(\"Lets start\")\n",
    "print(st)\n",
    "\n",
    "#Removing last element\n",
    "print(st.pop())\n",
    "print(st)\n",
    "\n",
    "#Joining two sets\n",
    "st1={\"A\",\"B\"}\n",
    "\n",
    "#set.union returns a set\n",
    "print(st.union(st1))\n",
    "\n",
    "#set.update updates the calling set\n",
    "st.update(st1)\n",
    "print(st)\n",
    "\n",
    "#Clearing a set\n",
    "st1.clear()\n",
    "print(st1)"
   ]
  },
  {
   "cell_type": "markdown",
   "metadata": {},
   "source": [
    "# ques 4"
   ]
  },
  {
   "cell_type": "code",
   "execution_count": null,
   "metadata": {},
   "outputs": [],
   "source": [
    "lst=input(\"Enter no. separated by space\\n\").split(\" \")\n",
    "n=len(lst)\n",
    "for i in range(n):\n",
    "  lst[i]=int(lst[i])\n",
    "obtainSum=sum(lst)\n",
    "actualSum=(n+1)*(n+2)/2\n",
    "print(\"Missing number:\",int(actualSum-obtainSum))"
   ]
  },
  {
   "cell_type": "markdown",
   "metadata": {},
   "source": [
    "#ques 5\n"
   ]
  },
  {
   "cell_type": "code",
   "execution_count": null,
   "metadata": {},
   "outputs": [],
   "source": [
    "lst1=input(\"Enter no. separated by space\\n\").split(\" \")\n",
    "n=len(lst1)\n",
    "dic={}\n",
    "for i in range(n):\n",
    "  lst1[i]=int(lst1[i])\n",
    "  if lst1[i] not in dic:\n",
    "    dic[lst1[i]]=1\n",
    "print(\"\\nList after removing duplicates.\")\n",
    "for i in dic:\n",
    "  print(i,end=\" \")"
   ]
  },
  {
   "cell_type": "code",
   "execution_count": null,
   "metadata": {},
   "outputs": [],
   "source": []
  }
 ],
 "metadata": {
  "kernelspec": {
   "display_name": "Python 3",
   "language": "python",
   "name": "python3"
  },
  "language_info": {
   "codemirror_mode": {
    "name": "ipython",
    "version": 3
   },
   "file_extension": ".py",
   "mimetype": "text/x-python",
   "name": "python",
   "nbconvert_exporter": "python",
   "pygments_lexer": "ipython3",
   "version": "3.7.6"
  }
 },
 "nbformat": 4,
 "nbformat_minor": 4
}
