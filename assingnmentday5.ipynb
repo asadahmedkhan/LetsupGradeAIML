{
 "cells": [
  {
   "cell_type": "code",
   "execution_count": 2,
   "metadata": {},
   "outputs": [
    {
     "name": "stdout",
     "output_type": "stream",
     "text": [
      "3 5 7 11 13 17 19 23 29 31 37 41 43 47 53 59 61 67 71 73 79 "
     ]
    }
   ],
   "source": [
    "c=0\n",
    "n=3\n",
    "def checkPrime(k):\n",
    "  for i in range(2,k):\n",
    "    if(k%i==0):\n",
    "      return False\n",
    "  return True\n",
    "while(c<=20):\n",
    "  if(checkPrime(n)):\n",
    "    print(n,end=\" \")\n",
    "    c=c+1\n",
    "  n=n+2"
   ]
  },
  {
   "cell_type": "markdown",
   "metadata": {},
   "source": [
    "# ques 2"
   ]
  },
  {
   "cell_type": "code",
   "execution_count": 3,
   "metadata": {},
   "outputs": [
    {
     "name": "stdout",
     "output_type": "stream",
     "text": [
      "string.\n",
      "abc\n",
      "Abc\n",
      "True\n",
      "ABC\n",
      "abc\n",
      "False\n",
      "True\n",
      "-1\n",
      "0\n",
      "False\n",
      "abc\n",
      "True\n",
      "False\n",
      "abc\n",
      "ABC\n",
      "False\n"
     ]
    }
   ],
   "source": [
    "str=input(\"string.\\n\")\n",
    "\n",
    "#First Method\n",
    "print(str.capitalize())\n",
    "#Second Method\n",
    "print(str.isprintable())\n",
    "#Third Method\n",
    "print(str.upper())\n",
    "# Fourth Method\n",
    "print(str.lower())\n",
    "# Fifth Method\n",
    "print(str.isupper())\n",
    "# Sixth Method\n",
    "print(str.islower())\n",
    "# Seventh Method\n",
    "print(str.find(\"o\"))\n",
    "# Eighth Method\n",
    "print(str.count(\"o\"))\n",
    "#Ninth Method\n",
    "print(str.startswith(\"e\"))\n",
    "#Tenth Method\n",
    "print(str.casefold())\n",
    "#Eleventh Method\n",
    "print(str.isalpha())\n",
    "#Twelveth Method\n",
    "print(str.isdecimal())\n",
    "#Thirteenth Method\n",
    "print(str.replace(\"o\",\"y\"))\n",
    "#Fourteenth Method\n",
    "print(str.swapcase())\n",
    "#Fifteenth Method\n",
    "print(str.endswith(\"d\"))"
   ]
  },
  {
   "cell_type": "code",
   "execution_count": 4,
   "metadata": {},
   "outputs": [
    {
     "name": "stdout",
     "output_type": "stream",
     "text": [
      "Enter first string.\n",
      "abcc\n",
      "Enter second string.\n",
      "accc\n",
      "Neither palindrome nor anagram\n"
     ]
    }
   ],
   "source": [
    "def checkAnagram(str1,str2):\n",
    "  if(sorted(str1)==sorted(str2)):\n",
    "    return True\n",
    "  return False\n",
    "str1=input(\"Enter first string.\\n\")\n",
    "str2=input(\"Enter second string.\\n\")\n",
    "if(str1[::-1]==str2):\n",
    "  print(\"Plindrome and Anagram both\")\n",
    "elif(checkAnagram(str1,str2)):\n",
    "  print(\"Anagram Only\")\n",
    "else:\n",
    "  print(\"Neither palindrome nor anagram\")"
   ]
  },
  {
   "cell_type": "code",
   "execution_count": 5,
   "metadata": {},
   "outputs": [
    {
     "name": "stdout",
     "output_type": "stream",
     "text": [
      "string\n",
      "abcc\n",
      "abcc\n"
     ]
    }
   ],
   "source": [
    "str=input(\"string\\n\")\n",
    "outString=\"\"\n",
    "k=0\n",
    "while(k<len(str)):\n",
    "  if(str[k:k+1].isalpha()):\n",
    "    outString=outString+str[k:k+1]\n",
    "  k=k+1\n",
    "print(outString.lower())"
   ]
  },
  {
   "cell_type": "code",
   "execution_count": null,
   "metadata": {},
   "outputs": [],
   "source": []
  }
 ],
 "metadata": {
  "kernelspec": {
   "display_name": "Python 3",
   "language": "python",
   "name": "python3"
  },
  "language_info": {
   "codemirror_mode": {
    "name": "ipython",
    "version": 3
   },
   "file_extension": ".py",
   "mimetype": "text/x-python",
   "name": "python",
   "nbconvert_exporter": "python",
   "pygments_lexer": "ipython3",
   "version": "3.7.6"
  }
 },
 "nbformat": 4,
 "nbformat_minor": 4
}
